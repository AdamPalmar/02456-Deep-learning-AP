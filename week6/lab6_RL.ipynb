{
 "cells": [
  {
   "cell_type": "markdown",
   "metadata": {},
   "source": [
    "# Reinforcement Learning Exercise\n",
    "\n",
    "For this exercise we will be using the [OpenAI Gym](https://gym.openai.com/) provided by [OpenAI](https://openai.com/). To get to know Gym, you are encouraged to read this [blogpost](https://openai.com/blog/openai-gym-beta/) (~10 minutes) and refer to the [docs](https://gym.openai.com/docs) along the way.\n",
    "\n",
    "In this exercise we will train a neural network agent to navigate various environments from the OpenAI Gym.\n",
    "\n",
    "## 0. Prerequisites\n",
    "\n",
    "We assume you already have Theano and Lasagne installed -- otherwise go back to the first exercise for instructions. \n",
    "\n",
    "Below is a brief guide on how to install OpenAI Gym. For more details please refer to the [docs](https://gym.openai.com/docs).\n",
    "   \n",
    "```\n",
    "$ cd ~/path/to/dir/...\n",
    "$ git clone https://github.com/openai/gym\n",
    "$ cd gym\n",
    "$ pip install -e . # minimal install\n",
    "```\n",
    "\n",
    "Verify your installation is working by importing `gym` and check for errors:\n",
    "\n",
    "```\n",
    "$ python\n",
    ">>> import gym\n",
    "[no errors]\n",
    "```\n",
    "\n",
    "Now restart this notebook before moving on to the next part."
   ]
  },
  {
   "cell_type": "markdown",
   "metadata": {},
   "source": [
    "## 1. Getting started\n",
    "\n",
    "Now that you have everythong installed, lets get started!\n",
    "\n",
    "The code below will import `gym` and initialize the [CartPole-v0](https://gym.openai.com/envs/CartPole-v0) environment. The task of this environment is to move a cart in order to balance a pole attached on top, but for now we will just take random actions for 200 timesteps to see what happens. The environment is rendered in a separate window so you can observe the result. "
   ]
  },
  {
   "cell_type": "code",
   "execution_count": 74,
   "metadata": {
    "collapsed": false
   },
   "outputs": [
    {
     "name": "stderr",
     "output_type": "stream",
     "text": [
      "[2016-10-03 13:21:08,793] Making new env: CartPole-v0\n",
      "[2016-10-03 13:21:08,878] You are calling 'step()' even though this environment has already returned done = True. You should always call 'reset()' once you receive 'done = True' -- any further steps are undefined behavior.\n"
     ]
    }
   ],
   "source": [
    "import gym\n",
    "\n",
    "# init and run an example environment\n",
    "env = gym.make('CartPole-v0')\n",
    "env.reset()\n",
    "for _ in range(200):\n",
    "    env.render()\n",
    "    env.step(env.action_space.sample())\n",
    "env.render(close=True)"
   ]
  },
  {
   "cell_type": "markdown",
   "metadata": {},
   "source": [
    "That was all very nice, but taking random actions doesn't really solve the task. We have to do something smarter. In the next part we will train an agent to solve the task by reinforcement learning."
   ]
  },
  {
   "cell_type": "markdown",
   "metadata": {},
   "source": [
    "## 2. Policy gradient agent\n",
    "\n",
    "In this part we will create an agent that can learn to solve tasks from OpenAI Gym by applying the policy gradient method.\n",
    "\n",
    "The agent is designed to work on environments with a discrete action space. Extending the code to also handle environments with countinous action space is left as an optional exercise.\n",
    "\n",
    "But first here is a short introduction to policy gradients.\n",
    "\n",
    "### Policy gradients\n",
    "\n",
    "We want to learn a policy neural network $p_\\theta(a_{t}|s_{t-1})$ with parameters $\\theta$ for action $a_t$ given the previous state $s_{t-1}$ only.\n",
    "When the action $a$ is discrete we can implement this by a softmax output taking $s$ as input. \n",
    "The (discounted) cumulative award for a sequence terminating after $T$ time-steps is\n",
    "\n",
    "$$\n",
    "R = \\sum_{t=1}^T \\gamma^{t-1} r_{t} \\ .\n",
    "$$\n",
    "\n",
    "The expectation of $R$ over a\n",
    "policy roll-out $p_\\theta({\\bf a}|{\\bf s})$ is \n",
    "\n",
    "$$\n",
    "\\mathbb{E}[R|\\theta] = \\int R({\\bf a},{\\bf s}) p_\\theta({\\bf a},{\\bf s}) d{\\bf a} d{\\bf s}\\ ,\n",
    "$$\n",
    "\n",
    "where ${\\bf a} = a_1,\\ldots,a_T$, ${\\bf s}=s_0,\\ldots,s_T$ and\n",
    "\n",
    "$$\n",
    "p_\\theta({\\bf a},{\\bf s}) = p(s_0) \\prod_{t=1}^T \\left[ \n",
    "p(s_{t}|s_{t-1},a_t) p_\\theta(a_{t}|s_{t-1})\n",
    "\\right]\\ .\n",
    "$$\n",
    "\n",
    "In this formulation $s_t$ is a stochastic function of the previous action and state: $p(s_t|a_t,s_{t-1})$. We can draw from the joint distribution of actions and states through the environment but $p(s_t|a_t,s_{t-1})$ is unknown. \n",
    "\n",
    "A deterministic environment, think chess or go, is a special case of this set-up where the state is a deterministic function of the previous state and action: $s_t = f(a_t,s_{t-1})$. We can include the deterministic formulation in the general by using a Dirac $\\delta$-function: $p(s_t|a_t,s_{t-1})= \\delta(s_t - f(a_t,s_{t-1}))$. The integration over $s_1,\\ldots,s_T$ may be carried out explicitly:    \n",
    "\n",
    "$$\n",
    "\\mathbb{E}[R|\\theta] = \\int R({\\bf a},s_0) p(s_0) \\prod_{t=1}^T  p_\\theta(a_{t}|s_{t-1})d{\\bf a} ds_0\\ ,\n",
    "$$\n",
    "\n",
    "where $s_{t-1}=f(a_{t-1},s_{t-2})$.\n",
    "\n",
    "We use gradient ascent to learn an approximation to a policy that maximizes the cumulative reward. \n",
    "So we need to compute the gradient:\n",
    "\n",
    "$$\n",
    "\\nabla_\\theta \\mathbb{E}[R|\\theta] = \\int R({\\bf a}, {\\bf s}) \\nabla_\\theta p_\\theta({\\bf a},{\\bf s}) \\, d{\\bf a}d{\\bf s} \\ .\n",
    "$$\n",
    "\n",
    "We can now use the identity\n",
    "\n",
    "$$\n",
    "\\nabla_\\theta p_\\theta({\\bf a},{\\bf s}) = p_\\theta({\\bf a},{\\bf s}) \\nabla_\\theta \\log p_\\theta({\\bf a},{\\bf s})\n",
    "$$\n",
    "\n",
    "to express the gradient as an average over $p_\\theta({\\bf a},{\\bf s})$:\n",
    "\n",
    "$$\n",
    "\\nabla_\\theta \\mathbb{E}[R|\\theta] = \\int p_\\theta({\\bf a},{\\bf s}) ( R({\\bf a}, {\\bf s}) - b ) \\nabla_\\theta \\log p_\\theta({\\bf a},{\\bf s}) d{\\bf a}d{\\bf s}\\ .\n",
    "$$\n",
    "\n",
    "The constant factor $b$ will not affect the gradient but will needed in practice when we estimate gradients by Monte Carlo (that is roll-outs). We can prove that subtracting $b$ will not change the gradient by using the identity from above again:\n",
    "\n",
    "\\begin{align*}\n",
    "0 & = \\nabla_\\theta 1 \\\\\n",
    "  & = \\nabla_\\theta \\int p_\\theta({\\bf a},{\\bf s}) \\, d{\\bf a} d{\\bf s}\\\\\n",
    "  & = \\int \\nabla_\\theta p_\\theta({\\bf a},{\\bf s}) \\, d{\\bf a}d{\\bf s}\\\\\n",
    "  & = \\int p_\\theta({\\bf a},{\\bf s}) \\nabla_\\theta \\log p_\\theta({\\bf a},{\\bf s}) \\, d{\\bf a}d{\\bf s} \\ .\n",
    "\\end{align*}\n",
    "\n",
    "We cannot evaluate the average over roll-outs analytically but we have an environment simulator that when supplied with our current policy $p_\\theta(a|s)$ can return the sequence of action, states and rewards. This allows us to replace the integral by a Monte Carlo average over $V$ roll-outs\n",
    "\n",
    "$$\n",
    "\\nabla_\\theta \\mathbb{E}[R|\\theta] \\approx \\frac{1}{V} \\sum_{v=1}^V ( R({\\bf a}^{(v)}, {\\bf s}^{(v)}) - b) \\nabla_\\theta \\log p_\\theta({\\bf a}^{(v)},{\\bf s}^{(v)})\n",
    "$$\n",
    "\n",
    "Note also that the gradient of $\\log p_\\theta({\\bf a}^{(v)},{\\bf s}^{(v)})$ does not depend explicitly on the state distribution:\n",
    "\n",
    "$$\n",
    "\\nabla_\\theta \\log p_\\theta({\\bf a}^{(v)},{\\bf s}^{(v)}) = \\sum_{t=1}^T \\nabla_\\theta \\log p_\\theta(a_{t}|s_{t-1}) \\ .\n",
    "$$\n",
    "\n",
    "We are almost done. As a last step we will use the freedom in the choice of $b$ to select a $b$ that will make the Monte Carlo estimate of the gradient have the lowest possible variance. In other words, the finite Monte Carlo sample give us a noisy gradient and by this correction we can make it vary as little as possible between roll-out draws.\n",
    "\n",
    "The $b$ that minimizes the variances can be found from minimizing the following expression:\n",
    "\n",
    "$$\n",
    "\\int p_\\theta({\\bf a},{\\bf s}) \\, ( R({\\bf a}, {\\bf s}) - b )^2 \\,  |\\nabla_\\theta \\log p_\\theta({\\bf a},{\\bf s})|^2 \\,  d{\\bf a}d{\\bf s} - \\left( \\nabla_\\theta \\mathbb{E}[R|\\theta] \\right)^2 \\ .\n",
    "$$\n",
    "\n",
    "The solution to this problem is\n",
    "\n",
    "$$\n",
    "b = \\frac{\\int p_\\theta({\\bf a},{\\bf s}) \\, R({\\bf a}, {\\bf s}) \\,  |\\nabla_\\theta \\log p_\\theta({\\bf a},{\\bf s})|^2 d{\\bf a}d{\\bf s}}{\\int p_\\theta({\\bf a},{\\bf s}) \\, |\\nabla_\\theta \\log p_\\theta({\\bf a},{\\bf s})|^2 d{\\bf a}d{\\bf s}} \\ .\n",
    "$$\n",
    "\n",
    "We replace this expression by a Monte Carlo average:\n",
    "\n",
    "$$\n",
    "b = \\frac{\\sum_{v=1}^V  R({\\bf a}^{(v)}, {\\bf s}^{(v)}) \\, |\\nabla_\\theta \\log p_\\theta({\\bf a}^{(v)},{\\bf s}^{(v)})|^2}{\\sum_{v=1}^V | \\nabla_\\theta \\log p_\\theta({\\bf a}^{(v)},{\\bf s}^{(v)})|^2}\n",
    "$$\n",
    "\n",
    "In the code below we instead use a time-step dependent baseline correction, $b(s_t)$, as described in [here](https://gym.openai.com/docs/rl#policy-gradients)."
   ]
  },
  {
   "cell_type": "code",
   "execution_count": 75,
   "metadata": {
    "collapsed": false
   },
   "outputs": [],
   "source": [
    "%matplotlib inline\n",
    "import matplotlib.pyplot as plt\n",
    "import numpy as np\n",
    "import theano\n",
    "import theano.tensor as T\n",
    "import lasagne\n",
    "from lasagne.layers import InputLayer, DenseLayer\n",
    "from lasagne.nonlinearities import tanh, softmax"
   ]
  },
  {
   "cell_type": "code",
   "execution_count": 220,
   "metadata": {
    "collapsed": false
   },
   "outputs": [],
   "source": [
    "class Agent(object):\n",
    "    \"\"\"\n",
    "    Reinforcement Learning Agent\n",
    "    \n",
    "    This agent can learn to solve reinforcement learning tasks from\n",
    "    OpenAI Gym by applying the policy gradient method.\n",
    "    \"\"\"\n",
    "\n",
    "    def __init__(self, n_inputs, n_outputs):\n",
    "        # symbolic variables for state, action, and advantage\n",
    "        sym_state = T.fmatrix()\n",
    "        sym_action = T.ivector()\n",
    "        sym_advantage = T.fvector()\n",
    "        # policy network\n",
    "        l_in = InputLayer(shape=(None, n_inputs))\n",
    "        l_hid = DenseLayer(incoming=l_in, num_units=20, nonlinearity=tanh, name='hiddenlayer')\n",
    "        l_out = DenseLayer(incoming=l_hid, num_units=n_outputs, nonlinearity=softmax, name='outputlayer')\n",
    "        # get network output\n",
    "        eval_out = lasagne.layers.get_output(l_out, {l_in: sym_state}, deterministic=True)\n",
    "        # get trainable parameters in the network.\n",
    "        params = lasagne.layers.get_all_params(l_out, trainable=True)\n",
    "        # get total number of timesteps\n",
    "        t_total = sym_state.shape[0]\n",
    "        # loss function that we'll differentiate to get the policy gradient\n",
    "        loss = -T.log(eval_out[T.arange(t_total), sym_action]).dot(sym_advantage) / t_total\n",
    "        # learning_rate\n",
    "        learning_rate = T.fscalar()\n",
    "        # get gradients\n",
    "        grads = T.grad(loss, params)\n",
    "        # update function\n",
    "#         updates = lasagne.updates.adagrad(grads, params, learning_rate=learning_rate)\n",
    "        updates = lasagne.updates.momentum(grads, params,learning_rate=learning_rate)\n",
    "        \n",
    "        #New optimizer\n",
    "#         updates = lasagne.updates.sgd(grads, params, learning_rate=learning_rate)\n",
    "        # declare training and evaluation functions\n",
    "        self.f_train = theano.function([sym_state, sym_action, sym_advantage, learning_rate], loss, updates=updates, allow_input_downcast=True)\n",
    "        self.f_eval = theano.function([sym_state], eval_out, allow_input_downcast=True)\n",
    "    \n",
    "    def learn(self, env, n_epochs=100, t_per_batch=10000, traj_t_limit=None,\n",
    "              learning_rate=0.1, discount_factor=1.0, n_early_stop=0):\n",
    "        \"\"\"\n",
    "        Learn the given environment by the policy gradient method.\n",
    "        \"\"\"\n",
    "        self.mean_train_rs = []\n",
    "        self.mean_val_rs = []\n",
    "        self.loss = []\n",
    "        for epoch in xrange(n_epochs):\n",
    "            # 1. collect trajectories until we have at least t_per_batch total timesteps\n",
    "            trajs = []; t_total = 0\n",
    "            while t_total < t_per_batch:\n",
    "                traj = self.get_trajectory(env, traj_t_limit, deterministic=False)\n",
    "                trajs.append(traj)\n",
    "                t_total += len(traj[\"r\"])\n",
    "            all_s = np.concatenate([traj[\"s\"] for traj in trajs])\n",
    "            # 2. compute cumulative discounted rewards (returns)\n",
    "            rets = [self._cumulative_discount(traj[\"r\"], discount_factor) for traj in trajs]\n",
    "            maxlen = max(len(ret) for ret in rets)\n",
    "            padded_rets = [np.concatenate([ret, np.zeros(maxlen-len(ret))]) for ret in rets]\n",
    "            # 3. compute time-dependent baseline\n",
    "            baseline = np.mean(padded_rets, axis=0)\n",
    "            # 4. compute advantages\n",
    "            advs = [ret - baseline[:len(ret)] for ret in rets]\n",
    "            all_a = np.concatenate([traj[\"a\"] for traj in trajs])\n",
    "            all_adv = np.concatenate(advs)\n",
    "            # 5. do policy gradient update step\n",
    "            loss = self.f_train(all_s, all_a, all_adv, learning_rate)\n",
    "            train_rs = np.array([traj[\"r\"].sum() for traj in trajs]) # trajectory total rewards\n",
    "            eplens = np.array([len(traj[\"r\"]) for traj in trajs]) # trajectory lengths\n",
    "            # compute validation reward\n",
    "            val_rs = np.array([self.get_trajectory(env, traj_t_limit, deterministic=True)['r'].sum() for _ in range(10)])\n",
    "            # update stats\n",
    "            self.mean_train_rs.append(train_rs.mean())\n",
    "            self.mean_val_rs.append(val_rs.mean())\n",
    "            self.loss.append(loss)\n",
    "            # print stats\n",
    "            print '%3d mean_train_r: %6.2f mean_val_r: %6.2f loss: %f' % (epoch+1, train_rs.mean(), val_rs.mean(), loss)\n",
    "            # render solution\n",
    "            #self.get_trajectory(env, traj_t_limit, render=True)\n",
    "            # check for early stopping: true if the validation reward has not changed in n_early_stop epochs\n",
    "            if n_early_stop and len(self.mean_val_rs) >= n_early_stop and \\\n",
    "                all([x == self.mean_val_rs[-1] for x in self.mean_val_rs[-n_early_stop:-1]]):\n",
    "                break\n",
    "    \n",
    "    def get_trajectory(self, env, t_limit=None, render=False, deterministic=True):\n",
    "        \"\"\"\n",
    "        Compute trajectroy by iteratively evaluating the agent policy on the environment.\n",
    "        \"\"\"\n",
    "        t_limit = t_limit or env.spec.timestep_limit\n",
    "        s = env.reset()\n",
    "        traj = {'s': [], 'a': [], 'r': [],}\n",
    "        for _ in xrange(t_limit):\n",
    "            a = self.get_action(s, deterministic)\n",
    "            (s, r, done, _) = env.step(a)\n",
    "            traj['s'].append(s)\n",
    "            traj['a'].append(a)\n",
    "            traj['r'].append(r)\n",
    "            if render: env.render()\n",
    "            if done: break\n",
    "        return {'s': np.array(traj['s']), 'a': np.array(traj['a']), 'r': np.array(traj['r'])}\n",
    "    \n",
    "    def get_action(self, s, deterministic=True):\n",
    "        \"\"\"\n",
    "        Evaluate the agent policy to choose an action, a, given state, s.\n",
    "        \"\"\"\n",
    "        # compute action probabilities\n",
    "        prob_a = self.f_eval(s.reshape(1,-1))\n",
    "        if deterministic:\n",
    "            # choose action with highest probability\n",
    "            return prob_a.argmax()\n",
    "        else:\n",
    "            # sample action from distribution\n",
    "            return (np.cumsum(np.asarray(prob_a)) > np.random.rand()).argmax()\n",
    "    \n",
    "    def _cumulative_discount(self, r, gamma):\n",
    "        \"\"\"\n",
    "        Compute the cumulative discounted rewards (returns).\n",
    "        \"\"\"\n",
    "        r_out = np.zeros(len(r), 'float64')\n",
    "        r_out[-1] = r[-1]\n",
    "        for i in reversed(xrange(len(r)-1)):\n",
    "            r_out[i] = r[i] + gamma * r_out[i+1]\n",
    "        return r_out"
   ]
  },
  {
   "cell_type": "markdown",
   "metadata": {},
   "source": [
    "Now that we have an agent, let's train it to solve the CartPole task.\n",
    "\n",
    "Note: The agent is not guaranteed to learn a good solution every time as the policy gradient method might get stuck in a local optimum -- you may have to do several restarts to find a good solution."
   ]
  },
  {
   "cell_type": "code",
   "execution_count": 231,
   "metadata": {
    "collapsed": false
   },
   "outputs": [
    {
     "name": "stderr",
     "output_type": "stream",
     "text": [
      "[2016-10-03 15:03:55,310] Making new env: CartPole-v0\n"
     ]
    },
    {
     "name": "stdout",
     "output_type": "stream",
     "text": [
      "  1 mean_train_r:  22.37 mean_val_r:  15.30 loss: 1.798372\n",
      "  2 mean_train_r:  22.28 mean_val_r:  16.10 loss: 2.077622\n",
      "  3 mean_train_r:  21.99 mean_val_r:  21.50 loss: 1.984454\n",
      "  4 mean_train_r:  22.60 mean_val_r:  13.60 loss: 1.839973\n",
      "  5 mean_train_r:  23.23 mean_val_r:  14.20 loss: 2.180260\n",
      "  6 mean_train_r:  22.24 mean_val_r:  16.50 loss: 2.102077\n",
      "  7 mean_train_r:  21.66 mean_val_r:  12.80 loss: 1.787246\n",
      "  8 mean_train_r:  21.84 mean_val_r:  12.30 loss: 1.728649\n",
      "  9 mean_train_r:  22.08 mean_val_r:  11.40 loss: 2.072387\n",
      " 10 mean_train_r:  21.39 mean_val_r:  10.30 loss: 1.904222\n",
      " 11 mean_train_r:  21.75 mean_val_r:  10.20 loss: 1.644869\n",
      " 12 mean_train_r:  22.26 mean_val_r:  10.00 loss: 2.058515\n",
      " 13 mean_train_r:  22.25 mean_val_r:   9.50 loss: 1.753781\n",
      " 14 mean_train_r:  21.65 mean_val_r:   9.80 loss: 1.835190\n",
      " 15 mean_train_r:  20.52 mean_val_r:   9.40 loss: 1.708571\n",
      " 16 mean_train_r:  21.22 mean_val_r:   9.20 loss: 1.824530\n",
      " 17 mean_train_r:  20.77 mean_val_r:   9.40 loss: 1.552855\n",
      " 18 mean_train_r:  21.15 mean_val_r:   9.10 loss: 1.760112\n",
      " 19 mean_train_r:  21.77 mean_val_r:   9.40 loss: 1.829602\n",
      " 20 mean_train_r:  20.86 mean_val_r:   9.40 loss: 1.903938\n",
      " 21 mean_train_r:  20.99 mean_val_r:   9.60 loss: 1.743443\n",
      " 22 mean_train_r:  21.32 mean_val_r:   9.40 loss: 1.935709\n",
      " 23 mean_train_r:  21.81 mean_val_r:  10.00 loss: 2.060258\n",
      " 24 mean_train_r:  20.89 mean_val_r:   9.50 loss: 1.802792\n",
      " 25 mean_train_r:  21.32 mean_val_r:   9.70 loss: 1.707442\n",
      " 26 mean_train_r:  21.19 mean_val_r:   9.80 loss: 1.684434\n",
      " 27 mean_train_r:  21.40 mean_val_r:  10.50 loss: 1.948985\n",
      " 28 mean_train_r:  21.46 mean_val_r:  10.60 loss: 2.002243\n",
      " 29 mean_train_r:  21.91 mean_val_r:  11.00 loss: 1.839993\n",
      " 30 mean_train_r:  21.72 mean_val_r:  10.80 loss: 1.918634\n",
      " 31 mean_train_r:  21.70 mean_val_r:  11.10 loss: 1.745563\n",
      " 32 mean_train_r:  21.28 mean_val_r:  11.60 loss: 1.790897\n",
      " 33 mean_train_r:  22.24 mean_val_r:  15.40 loss: 2.121494\n",
      " 34 mean_train_r:  21.02 mean_val_r:  18.90 loss: 1.688360\n",
      " 35 mean_train_r:  21.29 mean_val_r:  15.60 loss: 1.539137\n",
      " 36 mean_train_r:  21.79 mean_val_r:  24.40 loss: 1.943851\n",
      " 37 mean_train_r:  23.03 mean_val_r:  29.30 loss: 1.990965\n",
      " 38 mean_train_r:  22.68 mean_val_r:  30.00 loss: 1.850163\n",
      " 39 mean_train_r:  21.85 mean_val_r:  39.90 loss: 1.902846\n",
      " 40 mean_train_r:  22.90 mean_val_r:  41.60 loss: 2.229490\n",
      " 41 mean_train_r:  22.69 mean_val_r:  50.20 loss: 2.203548\n",
      " 42 mean_train_r:  23.17 mean_val_r:  49.30 loss: 2.269042\n",
      " 43 mean_train_r:  23.27 mean_val_r:  52.70 loss: 2.151435\n",
      " 44 mean_train_r:  23.59 mean_val_r:  50.60 loss: 2.563522\n",
      " 45 mean_train_r:  24.36 mean_val_r:  53.00 loss: 2.202131\n",
      " 46 mean_train_r:  22.20 mean_val_r:  52.90 loss: 2.014181\n",
      " 47 mean_train_r:  23.55 mean_val_r:  51.20 loss: 2.745610\n",
      " 48 mean_train_r:  22.25 mean_val_r:  54.60 loss: 1.914262\n",
      " 49 mean_train_r:  22.44 mean_val_r:  52.00 loss: 2.231613\n",
      " 50 mean_train_r:  22.95 mean_val_r:  50.10 loss: 2.238292\n",
      " 51 mean_train_r:  23.71 mean_val_r:  52.80 loss: 2.134486\n",
      " 52 mean_train_r:  24.28 mean_val_r:  53.90 loss: 2.436513\n",
      " 53 mean_train_r:  23.49 mean_val_r:  56.00 loss: 2.243642\n",
      " 54 mean_train_r:  23.23 mean_val_r:  46.00 loss: 2.140999\n",
      " 55 mean_train_r:  24.45 mean_val_r:  54.30 loss: 2.644669\n",
      " 56 mean_train_r:  23.83 mean_val_r:  51.90 loss: 2.098098\n",
      " 57 mean_train_r:  24.72 mean_val_r:  61.40 loss: 2.371950\n",
      " 58 mean_train_r:  24.33 mean_val_r:  62.60 loss: 2.426417\n",
      " 59 mean_train_r:  24.57 mean_val_r:  64.10 loss: 2.252185\n",
      " 60 mean_train_r:  22.90 mean_val_r:  99.50 loss: 2.247671\n",
      " 61 mean_train_r:  25.86 mean_val_r: 106.00 loss: 2.383631\n",
      " 62 mean_train_r:  23.56 mean_val_r: 108.30 loss: 2.288538\n",
      " 63 mean_train_r:  24.27 mean_val_r: 143.20 loss: 2.301584\n",
      " 64 mean_train_r:  24.43 mean_val_r: 147.40 loss: 2.272020\n",
      " 65 mean_train_r:  25.17 mean_val_r: 168.80 loss: 2.510540\n",
      " 66 mean_train_r:  25.60 mean_val_r: 159.70 loss: 2.215993\n",
      " 67 mean_train_r:  25.73 mean_val_r: 179.70 loss: 2.317519\n",
      " 68 mean_train_r:  25.84 mean_val_r: 164.00 loss: 2.486572\n",
      " 69 mean_train_r:  27.28 mean_val_r: 165.60 loss: 2.609117\n",
      " 70 mean_train_r:  28.27 mean_val_r: 163.20 loss: 2.907946\n",
      " 71 mean_train_r:  28.78 mean_val_r: 174.80 loss: 2.801548\n",
      " 72 mean_train_r:  27.41 mean_val_r: 167.80 loss: 2.931418\n",
      " 73 mean_train_r:  27.56 mean_val_r: 169.80 loss: 2.745959\n",
      " 74 mean_train_r:  27.77 mean_val_r: 175.30 loss: 2.859333\n",
      " 75 mean_train_r:  27.14 mean_val_r: 168.20 loss: 2.707156\n",
      " 76 mean_train_r:  28.09 mean_val_r: 171.10 loss: 2.517126\n",
      " 77 mean_train_r:  27.06 mean_val_r: 152.40 loss: 2.461190\n",
      " 78 mean_train_r:  28.99 mean_val_r: 162.40 loss: 3.082328\n",
      " 79 mean_train_r:  28.20 mean_val_r: 172.90 loss: 2.878458\n",
      " 80 mean_train_r:  29.03 mean_val_r: 155.20 loss: 2.974003\n",
      " 81 mean_train_r:  28.34 mean_val_r: 177.10 loss: 2.932215\n",
      " 82 mean_train_r:  29.28 mean_val_r: 154.40 loss: 2.968725\n",
      " 83 mean_train_r:  29.86 mean_val_r: 147.80 loss: 2.874111\n",
      " 84 mean_train_r:  28.52 mean_val_r: 166.90 loss: 3.161367\n",
      " 85 mean_train_r:  28.41 mean_val_r: 138.00 loss: 2.628501\n",
      " 86 mean_train_r:  30.16 mean_val_r: 165.80 loss: 3.237112\n",
      " 87 mean_train_r:  29.32 mean_val_r: 142.60 loss: 2.978632\n",
      " 88 mean_train_r:  30.25 mean_val_r: 143.70 loss: 3.066473\n",
      " 89 mean_train_r:  28.25 mean_val_r: 147.70 loss: 2.692458\n",
      " 90 mean_train_r:  28.45 mean_val_r: 137.40 loss: 3.164180\n",
      " 91 mean_train_r:  30.06 mean_val_r: 141.00 loss: 2.836196\n",
      " 92 mean_train_r:  28.97 mean_val_r: 165.40 loss: 2.384565\n",
      " 93 mean_train_r:  28.59 mean_val_r: 149.60 loss: 2.803715\n",
      " 94 mean_train_r:  28.59 mean_val_r: 140.60 loss: 2.947352\n",
      " 95 mean_train_r:  30.78 mean_val_r: 142.80 loss: 2.431974\n",
      " 96 mean_train_r:  32.60 mean_val_r: 128.30 loss: 3.223282\n",
      " 97 mean_train_r:  31.77 mean_val_r: 148.00 loss: 3.203092\n",
      " 98 mean_train_r:  33.83 mean_val_r: 130.30 loss: 3.370457\n",
      " 99 mean_train_r:  32.89 mean_val_r: 138.10 loss: 2.976915\n",
      "100 mean_train_r:  32.79 mean_val_r: 139.50 loss: 3.045801\n"
     ]
    }
   ],
   "source": [
    "# init environment\n",
    "env = gym.make('CartPole-v0')\n",
    "# init agent\n",
    "agent = Agent(n_inputs=env.observation_space.shape[0],\n",
    "              n_outputs=env.action_space.n)\n",
    "# train agent on the environment\n",
    "# agent.learn(env, n_epochs=100, learning_rate=0.05, discount_factor=1,\n",
    "#             t_per_batch=1000, traj_t_limit=env.spec.timestep_limit, n_early_stop=5)\n",
    "#1\n",
    "# agent.learn(env, n_epochs=100, learning_rate=0.05, discount_factor=1,\n",
    "#             t_per_batch=1000, traj_t_limit=500, n_early_stop=5)\n",
    "# This converged but had some ups and downs\n",
    "#agent.learn(env, n_epochs=100, learning_rate=0.1, discount_factor=0.99,\n",
    "#             t_per_batch=10000, traj_t_limit=200, n_early_stop=5)\n",
    "agent.learn(env, n_epochs=100, learning_rate=0.009, discount_factor=0.99,\n",
    "            t_per_batch=10000, traj_t_limit=200, n_early_stop=5)"
   ]
  },
  {
   "cell_type": "code",
   "execution_count": 232,
   "metadata": {
    "collapsed": false
   },
   "outputs": [
    {
     "data": {
      "image/png": "[encoded data removed]",
      "text/plain": [
       "<matplotlib.figure.Figure at 0x7f061323f050>"
      ]
     },
     "metadata": {},
     "output_type": "display_data"
    },
    {
     "ename": "ValueError",
     "evalue": "Format \"01\" is not supported.\nSupported formats: eps, jpeg, jpg, pdf, pgf, png, ps, raw, rgba, svg, svgz, tif, tiff.",
     "output_type": "error",
     "traceback": [
      "\u001b[1;31m---------------------------------------------------------------------------\u001b[0m",
      "\u001b[1;31mValueError\u001b[0m                                Traceback (most recent call last)",
      "\u001b[1;32m<ipython-input-232-5c2d8a1e0336>\u001b[0m in \u001b[0;36m<module>\u001b[1;34m()\u001b[0m\n\u001b[0;32m      7\u001b[0m \u001b[0mplt\u001b[0m\u001b[1;33m.\u001b[0m\u001b[0mlegend\u001b[0m\u001b[1;33m(\u001b[0m\u001b[0mloc\u001b[0m\u001b[1;33m=\u001b[0m\u001b[1;36m2\u001b[0m\u001b[1;33m)\u001b[0m\u001b[1;33m;\u001b[0m \u001b[0mplt\u001b[0m\u001b[1;33m.\u001b[0m\u001b[0mgrid\u001b[0m\u001b[1;33m(\u001b[0m\u001b[1;33m)\u001b[0m\u001b[1;33m\u001b[0m\u001b[0m\n\u001b[0;32m      8\u001b[0m \u001b[0m_\u001b[0m\u001b[1;33m=\u001b[0m\u001b[0mplt\u001b[0m\u001b[1;33m.\u001b[0m\u001b[0mshow\u001b[0m\u001b[1;33m(\u001b[0m\u001b[1;33m)\u001b[0m\u001b[1;33m\u001b[0m\u001b[0m\n\u001b[1;32m----> 9\u001b[1;33m \u001b[0mplt\u001b[0m\u001b[1;33m.\u001b[0m\u001b[0msavefig\u001b[0m\u001b[1;33m(\u001b[0m\u001b[1;34m\"Momentum_0.01\"\u001b[0m\u001b[1;33m)\u001b[0m\u001b[1;33m\u001b[0m\u001b[0m\n\u001b[0m",
      "\u001b[1;32m/home/adam/anaconda2/envs/deeplearning/lib/python2.7/site-packages/matplotlib/pyplot.pyc\u001b[0m in \u001b[0;36msavefig\u001b[1;34m(*args, **kwargs)\u001b[0m\n\u001b[0;32m    686\u001b[0m \u001b[1;32mdef\u001b[0m \u001b[0msavefig\u001b[0m\u001b[1;33m(\u001b[0m\u001b[1;33m*\u001b[0m\u001b[0margs\u001b[0m\u001b[1;33m,\u001b[0m \u001b[1;33m**\u001b[0m\u001b[0mkwargs\u001b[0m\u001b[1;33m)\u001b[0m\u001b[1;33m:\u001b[0m\u001b[1;33m\u001b[0m\u001b[0m\n\u001b[0;32m    687\u001b[0m     \u001b[0mfig\u001b[0m \u001b[1;33m=\u001b[0m \u001b[0mgcf\u001b[0m\u001b[1;33m(\u001b[0m\u001b[1;33m)\u001b[0m\u001b[1;33m\u001b[0m\u001b[0m\n\u001b[1;32m--> 688\u001b[1;33m     \u001b[0mres\u001b[0m \u001b[1;33m=\u001b[0m \u001b[0mfig\u001b[0m\u001b[1;33m.\u001b[0m\u001b[0msavefig\u001b[0m\u001b[1;33m(\u001b[0m\u001b[1;33m*\u001b[0m\u001b[0margs\u001b[0m\u001b[1;33m,\u001b[0m \u001b[1;33m**\u001b[0m\u001b[0mkwargs\u001b[0m\u001b[1;33m)\u001b[0m\u001b[1;33m\u001b[0m\u001b[0m\n\u001b[0m\u001b[0;32m    689\u001b[0m     \u001b[0mfig\u001b[0m\u001b[1;33m.\u001b[0m\u001b[0mcanvas\u001b[0m\u001b[1;33m.\u001b[0m\u001b[0mdraw_idle\u001b[0m\u001b[1;33m(\u001b[0m\u001b[1;33m)\u001b[0m   \u001b[1;31m# need this if 'transparent=True' to reset colors\u001b[0m\u001b[1;33m\u001b[0m\u001b[0m\n\u001b[0;32m    690\u001b[0m     \u001b[1;32mreturn\u001b[0m \u001b[0mres\u001b[0m\u001b[1;33m\u001b[0m\u001b[0m\n",
      "\u001b[1;32m/home/adam/anaconda2/envs/deeplearning/lib/python2.7/site-packages/matplotlib/figure.pyc\u001b[0m in \u001b[0;36msavefig\u001b[1;34m(self, *args, **kwargs)\u001b[0m\n\u001b[0;32m   1563\u001b[0m             \u001b[0mself\u001b[0m\u001b[1;33m.\u001b[0m\u001b[0mset_frameon\u001b[0m\u001b[1;33m(\u001b[0m\u001b[0mframeon\u001b[0m\u001b[1;33m)\u001b[0m\u001b[1;33m\u001b[0m\u001b[0m\n\u001b[0;32m   1564\u001b[0m \u001b[1;33m\u001b[0m\u001b[0m\n\u001b[1;32m-> 1565\u001b[1;33m         \u001b[0mself\u001b[0m\u001b[1;33m.\u001b[0m\u001b[0mcanvas\u001b[0m\u001b[1;33m.\u001b[0m\u001b[0mprint_figure\u001b[0m\u001b[1;33m(\u001b[0m\u001b[1;33m*\u001b[0m\u001b[0margs\u001b[0m\u001b[1;33m,\u001b[0m \u001b[1;33m**\u001b[0m\u001b[0mkwargs\u001b[0m\u001b[1;33m)\u001b[0m\u001b[1;33m\u001b[0m\u001b[0m\n\u001b[0m\u001b[0;32m   1566\u001b[0m \u001b[1;33m\u001b[0m\u001b[0m\n\u001b[0;32m   1567\u001b[0m         \u001b[1;32mif\u001b[0m \u001b[0mframeon\u001b[0m\u001b[1;33m:\u001b[0m\u001b[1;33m\u001b[0m\u001b[0m\n",
      "\u001b[1;32m/home/adam/anaconda2/envs/deeplearning/lib/python2.7/site-packages/matplotlib/backend_bases.pyc\u001b[0m in \u001b[0;36mprint_figure\u001b[1;34m(self, filename, dpi, facecolor, edgecolor, orientation, format, **kwargs)\u001b[0m\n\u001b[0;32m   2137\u001b[0m \u001b[1;33m\u001b[0m\u001b[0m\n\u001b[0;32m   2138\u001b[0m         \u001b[1;31m# get canvas object and print method for format\u001b[0m\u001b[1;33m\u001b[0m\u001b[1;33m\u001b[0m\u001b[0m\n\u001b[1;32m-> 2139\u001b[1;33m         \u001b[0mcanvas\u001b[0m \u001b[1;33m=\u001b[0m \u001b[0mself\u001b[0m\u001b[1;33m.\u001b[0m\u001b[0m_get_output_canvas\u001b[0m\u001b[1;33m(\u001b[0m\u001b[0mformat\u001b[0m\u001b[1;33m)\u001b[0m\u001b[1;33m\u001b[0m\u001b[0m\n\u001b[0m\u001b[0;32m   2140\u001b[0m         \u001b[0mprint_method\u001b[0m \u001b[1;33m=\u001b[0m \u001b[0mgetattr\u001b[0m\u001b[1;33m(\u001b[0m\u001b[0mcanvas\u001b[0m\u001b[1;33m,\u001b[0m \u001b[1;34m'print_%s'\u001b[0m \u001b[1;33m%\u001b[0m \u001b[0mformat\u001b[0m\u001b[1;33m)\u001b[0m\u001b[1;33m\u001b[0m\u001b[0m\n\u001b[0;32m   2141\u001b[0m \u001b[1;33m\u001b[0m\u001b[0m\n",
      "\u001b[1;32m/home/adam/anaconda2/envs/deeplearning/lib/python2.7/site-packages/matplotlib/backend_bases.pyc\u001b[0m in \u001b[0;36m_get_output_canvas\u001b[1;34m(self, format)\u001b[0m\n\u001b[0;32m   2077\u001b[0m         raise ValueError('Format \"%s\" is not supported.\\n'\n\u001b[0;32m   2078\u001b[0m                          \u001b[1;34m'Supported formats: '\u001b[0m\u001b[1;33m\u001b[0m\u001b[0m\n\u001b[1;32m-> 2079\u001b[1;33m                          '%s.' % (format, ', '.join(formats)))\n\u001b[0m\u001b[0;32m   2080\u001b[0m \u001b[1;33m\u001b[0m\u001b[0m\n\u001b[0;32m   2081\u001b[0m     def print_figure(self, filename, dpi=None, facecolor='w', edgecolor='w',\n",
      "\u001b[1;31mValueError\u001b[0m: Format \"01\" is not supported.\nSupported formats: eps, jpeg, jpg, pdf, pgf, png, ps, raw, rgba, svg, svgz, tif, tiff."
     ]
    },
    {
     "data": {
      "text/plain": [
       "<matplotlib.figure.Figure at 0x7f0612572610>"
      ]
     },
     "metadata": {},
     "output_type": "display_data"
    }
   ],
   "source": [
    "# plot training and validation mean reward\n",
    "plt.figure(figsize=(10,5))\n",
    "plt.xlabel('epochs'); plt.ylabel('mean reward')\n",
    "plt.plot(agent.mean_train_rs, label='training')\n",
    "plt.plot(agent.mean_val_rs, label='validation')\n",
    "plt.xlim((0,len(agent.mean_val_rs)-1))\n",
    "plt.legend(loc=2); plt.grid()\n",
    "_=plt.show()\n",
    "plt.savefig(\"Momentum_0.png\")"
   ]
  },
  {
   "cell_type": "code",
   "execution_count": 208,
   "metadata": {
    "collapsed": false
   },
   "outputs": [],
   "source": [
    "# review solution\n",
    "\n",
    "agent.get_trajectory(env, t_limit=10000, render=True)\n",
    "env.render(close=True)"
   ]
  },
  {
   "cell_type": "markdown",
   "metadata": {},
   "source": [
    "The initial solution does not learn to solve the task very well. Here are some hints on how to improve the solution:\n",
    "\n",
    "* Increase the trajectory timestep limit to let the simulations look further into the future.\n",
    "* Increase number of timesteps evaluated per batch.\n",
    "* Try different optimization functions.\n",
    "* Adjust the learning rate.\n",
    "* Adjust the discount factor.\n",
    "\n",
    "### Exercises\n",
    "\n",
    "1. Describe the changes you made and and why they should improve the agent. Are you able to get solutions consistently?\n",
    "2. In the plot above you will sometimes see that the validation reward starts out lower than the training reward but later they cross. How can you explain this behavior?\n",
    "3. Explain step by step the algorithm in the `agent.learn` method with particular attention the points denoted 1-5 in the code above.\n",
    "4. Optional: Monitor and submit your best solution to the Gym (see code below)."
   ]
  },
  {
   "cell_type": "code",
   "execution_count": null,
   "metadata": {
    "collapsed": true
   },
   "outputs": [],
   "source": [
    "#By decreasing the number of timesteps per batch it was possible to get a solution by updating into the solution\n",
    "#But it seemed very unstable\n",
    "#Adam Optimization was pretty not converging consistantly i think it is because when it is building momentum it overshoots\n",
    "#2.\n",
    "#"
   ]
  },
  {
   "cell_type": "code",
   "execution_count": 88,
   "metadata": {
    "collapsed": false
   },
   "outputs": [],
   "source": [
    "# start monitor\n",
    "# env.monitor.start('cartpole-experiment-1')\n",
    "# for _ in xrange(100):\n",
    "#    agent.get_trajectory(env)\n",
    "# env.monitor.close()"
   ]
  },
  {
   "cell_type": "markdown",
   "metadata": {},
   "source": [
    "When you have monitored a solution open a Python shell and use the following command to upload the results to OpenAI Gym:\n",
    "\n",
    "```\n",
    "import gym\n",
    "gym.upload('cartpole-experiment-1', api_key='YOUR_API_KEY')\n",
    "```\n",
    "\n",
    "You can also run the command here in the notebook, but remember to remove the API key before handing in the exercise.\n",
    "\n",
    "You can find your API key at your [OpenAI Gym](https://gym.openai.com/) account page. "
   ]
  },
  {
   "cell_type": "markdown",
   "metadata": {},
   "source": [
    "## 3. Playground\n",
    "\n",
    "In this part you can try to learn a solution to an environment from [OpenAI Gym](https://gym.openai.com/) of your own choice. Some environments will require you to adjust the agent code since they have different properties, however, some environments such as 'Acrobot-v1' and 'MountainCar-v0' should work out of the box.\n",
    "\n",
    "Below is some code to get you started.\n",
    "\n",
    "### Exercises\n",
    "\n",
    "1. Describe the environment you have chosen including its state and action space.\n",
    "2. Describe the particular challanges of the environment you have chosen.\n",
    "3. Were you able to train a good solution? How/why not?\n",
    "4. Optional: Monitor and submit your solution to the Gym."
   ]
  },
  {
   "cell_type": "code",
   "execution_count": null,
   "metadata": {
    "collapsed": true
   },
   "outputs": [],
   "source": [
    "# init environment\n",
    "#my_env = gym.make('some-environment')\n",
    "# init agent\n",
    "#my_agent = Agent(n_inputs=my_env.observation_space.shape[0],\n",
    "#              n_outputs=my_env.action_space.n)\n",
    "# train agent on the environment\n",
    "#my_agent.learn(my_env)"
   ]
  },
  {
   "cell_type": "code",
   "execution_count": null,
   "metadata": {
    "collapsed": true
   },
   "outputs": [],
   "source": [
    "# plot training and validation mean reward\n",
    "#plt.figure(figsize=(10,5))\n",
    "#plt.xlabel('epochs'); plt.ylabel('mean reward')\n",
    "#plt.plot(my_agent.mean_train_rs, label='training')\n",
    "#plt.plot(my_agent.mean_val_rs, label='validation')\n",
    "#plt.xlim((0,len(my_agent.mean_val_rs)-1))\n",
    "#plt.legend(loc=2); plt.grid()\n",
    "#_=plt.show()"
   ]
  },
  {
   "cell_type": "code",
   "execution_count": null,
   "metadata": {
    "collapsed": true
   },
   "outputs": [],
   "source": [
    "# review solution\n",
    "#my_agent.get_trajectory(my_env, t_limit=1000, render=True)\n",
    "#my_env.render(close=True)"
   ]
  },
  {
   "cell_type": "markdown",
   "metadata": {},
   "source": [
    "## 4. Optional exercises\n",
    "\n",
    "1. Optional: Extend the agent to also work on environments with a continous action space."
   ]
  }
 ],
 "metadata": {
  "anaconda-cloud": {},
  "kernelspec": {
   "display_name": "Python [deeplearning]",
   "language": "python",
   "name": "Python [deeplearning]"
  },
  "language_info": {
   "codemirror_mode": {
    "name": "ipython",
    "version": 2
   },
   "file_extension": ".py",
   "mimetype": "text/x-python",
   "name": "python",
   "nbconvert_exporter": "python",
   "pygments_lexer": "ipython2",
   "version": "2.7.12"
  }
 },
 "nbformat": 4,
 "nbformat_minor": 0
}
